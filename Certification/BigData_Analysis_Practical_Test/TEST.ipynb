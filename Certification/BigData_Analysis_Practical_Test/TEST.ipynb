{
 "cells": [
  {
   "cell_type": "code",
   "execution_count": 12,
   "metadata": {},
   "outputs": [],
   "source": [
    "import warnings\n",
    "warnings.filterwarnings('ignore')"
   ]
  },
  {
   "cell_type": "markdown",
   "metadata": {},
   "source": [
    "# T1"
   ]
  },
  {
   "cell_type": "markdown",
   "metadata": {},
   "source": [
    "## T1-1\n"
   ]
  },
  {
   "cell_type": "code",
   "execution_count": 13,
   "metadata": {},
   "outputs": [
    {
     "name": "stdout",
     "output_type": "stream",
     "text": [
      "62.49774712521738\n"
     ]
    }
   ],
   "source": [
    "# 출력을 원할 경우 print() 함수 활용\n",
    "# 예시) print(df.head())\n",
    "\n",
    "# getcwd(), chdir() 등 작업 폴더 설정 불필요\n",
    "# 파일 경로 상 내부 드라이브 경로(C: 등) 접근 불가\n",
    "\"\"\"\n",
    "데이터셋(basic1.csv)의 'f5' 컬럼을 기준으로 상위 10개의 데이터를 구하고,\n",
    "'f5'컬럼 10개 중 최소값으로 데이터를 대체한 후,\n",
    "'age'컬럼에서 80 이상인 데이터의'f5 컬럼 평균값 구하기\n",
    "\"\"\"\n",
    "# 데이터 파일 읽기 예제\n",
    "import pandas as pd\n",
    "df = pd.read_csv('./basic1.csv')\n",
    "\n",
    "# 사용자 코딩\n",
    "df = df.sort_values('f5', ascending=False)\n",
    "min_ = df['f5'][:10].min()\n",
    "df['f5'][:10] = min_\n",
    "cond = df['age'] >= 80\n",
    "\n",
    "# 답안 제출 예시\n",
    "# print(평균변수값)\n",
    "print(df[cond]['f5'].mean())"
   ]
  },
  {
   "cell_type": "code",
   "execution_count": 18,
   "metadata": {},
   "outputs": [
    {
     "name": "stdout",
     "output_type": "stream",
     "text": [
      "3.2965018033960725\n"
     ]
    }
   ],
   "source": [
    "# 출력을 원할 경우 print() 함수 활용\n",
    "# 예시) print(df.head())\n",
    "\n",
    "# getcwd(), chdir() 등 작업 폴더 설정 불필요\n",
    "# 파일 경로 상 내부 드라이브 경로(C: 등) 접근 불가\n",
    "\"\"\"\n",
    "데이터셋(basic1.csv)의 앞에서 순서대로 70% 데이터만 활용해서,\n",
    "'f1'컬럼 결측치를 중앙값으로 채우기 전후의 표준편차를 구하고\n",
    "두 표준편차 차이 계산하기\n",
    "\"\"\"\n",
    "# 데이터 파일 읽기 예제\n",
    "import pandas as pd\n",
    "df = pd.read_csv('./basic1.csv')\n",
    "# 사용자 코딩\n",
    "df70 = df[:int(len(df)*0.7)]\n",
    "before = df70['f1'].std()\n",
    "df70['f1'] = df70['f1'].fillna(df70['f1'].median())\n",
    "after = df70['f1'].std()\n",
    "\n",
    "# 답안 제출 예시\n",
    "# print(평균변수값)\n",
    "print(before-after)"
   ]
  },
  {
   "cell_type": "code",
   "execution_count": 23,
   "metadata": {},
   "outputs": [
    {
     "name": "stdout",
     "output_type": "stream",
     "text": [
      "473.5\n"
     ]
    }
   ],
   "source": [
    "# 출력을 원할 경우 print() 함수 활용\n",
    "# 예시) print(df.head())\n",
    "\n",
    "# getcwd(), chdir() 등 작업 폴더 설정 불필요\n",
    "# 파일 경로 상 내부 드라이브 경로(C: 등) 접근 불가\n",
    "\"\"\"\n",
    "데이터셋(basic1.csv)의 'age'컬럼의 이상치를 더하시오!\n",
    "단, 평균으로부터 '표준편차*1.5'를 벗어나는 영역을 이상치라고 판단함\n",
    "\"\"\"\n",
    "# 데이터 파일 읽기 예제\n",
    "import pandas as pd\n",
    "df = pd.read_csv('./basic1.csv')\n",
    "# 사용자 코딩\n",
    "mean_value = df['age'].mean()\n",
    "std_value = df['age'].std()*1.5\n",
    "low_line = mean_value-std_value\n",
    "high_line = mean_value+std_value\n",
    "cond = (df['age']>high_line) | (df['age']<low_line)\n",
    "# 답안 제출 예시\n",
    "# print(평균변수값)\n",
    "print(df[cond]['age'].sum())\n"
   ]
  },
  {
   "cell_type": "markdown",
   "metadata": {},
   "source": [
    "## T1-2"
   ]
  },
  {
   "cell_type": "markdown",
   "metadata": {},
   "source": [
    "    전자상거래 배송 데이터\n",
    "    제품 배송 시간에 맞춰 배송되었는지 예측모델 만들기\n",
    "    학습용 데이터 (X_train, y_train)을 이용하여 배송 예측 모형을 만든 후, 이를 평가용 데이터(X_test)에 \n",
    "    적용하여 얻은 예측 확률값을 다음과 같은 형식의 CSV파일로 생성하시오(제출한 모델의 성능은 ROC-AUC 평가지표에 따라 채점)\n",
    "\n",
    "    ID, Reached.on.Time_Y.N\n",
    "    4733,0.6\n",
    "    2040,0.8\n",
    "    5114,0.45\n",
    "    2361,0.23\n",
    "    5996,0.43\n",
    "    [시험용 데이터셋 만들기] 코드는 예시문제와 동일한 형태의 X_train, y_train, X_test 데이터를 만들기 위함임\n",
    "\n",
    "    (유의사항)\n",
    "\n",
    "    성능이 우수한 예측모형을 구축하기 위해서는 적절한 데이터 전처리, 피처엔지니어링, 분류알고리즘, 하이퍼파라미터 튜닝, 모형 앙상블 등이 수반되어야 한다.\n",
    "    수험번호.csv파일이 만들어지도록 코드를 제출한다.\n",
    "    제출한 모델의 성능은 ROC-AUC형태로 읽어드린다."
   ]
  },
  {
   "cell_type": "code",
   "execution_count": 30,
   "metadata": {},
   "outputs": [
    {
     "data": {
      "text/plain": [
       "((8799, 11), (2200, 11), (8799, 2), (2200, 2))"
      ]
     },
     "execution_count": 30,
     "metadata": {},
     "output_type": "execute_result"
    }
   ],
   "source": [
    "import pandas as pd\n",
    "import numpy as np\n",
    "from sklearn.model_selection import train_test_split\n",
    "\n",
    "def exam_data_load(df, target, id_name=\"\", null_name=\"\"):\n",
    "    if id_name == \"\":\n",
    "        df = df.reset_index().rename(columns={\"index\": \"id\"})\n",
    "        id_name = 'id'\n",
    "    else:\n",
    "        id_name = id_name\n",
    "    \n",
    "    if null_name != \"\":\n",
    "        df[df == null_name] = np.nan\n",
    "    \n",
    "    X_train, X_test = train_test_split(df, test_size=0.2, random_state=2021)\n",
    "    \n",
    "    y_train = X_train[[id_name, target]]\n",
    "    X_train = X_train.drop(columns=[target])\n",
    "\n",
    "    \n",
    "    y_test = X_test[[id_name, target]]\n",
    "    X_test = X_test.drop(columns=[target])\n",
    "    return X_train, X_test, y_train, y_test \n",
    "    \n",
    "df = pd.read_csv(\"./Test1-2_train.csv\")\n",
    "X_train, X_test, y_train, y_test = exam_data_load(df, target='Reached.on.Time_Y.N', id_name='ID')\n",
    "\n",
    "X_train.shape, X_test.shape, y_train.shape, y_test.shape\n"
   ]
  },
  {
   "cell_type": "code",
   "execution_count": 139,
   "metadata": {},
   "outputs": [],
   "source": [
    "xtrain = X_train.copy()\n",
    "xtest = X_test.copy()\n",
    "ytr = y_train.copy()\n",
    "yte = y_test.copy()\n",
    "# Remove ID\n",
    "xtrain = xtrain.drop('ID', axis=1)\n",
    "ytr = ytr.drop('ID', axis=1)\n",
    "yte = yte.drop('ID',axis=1)\n",
    "\n",
    "xtest = xtest.drop('ID', axis=1)\n",
    "# Warehouse_block, Mode_of_Operation, Prodduct_importance, Gender Label encodings\n",
    "from sklearn.preprocessing import LabelEncoder\n",
    "le = LabelEncoder()\n",
    "columns = ['Warehouse_block','Mode_of_Shipment','Gender','Product_importance']\n",
    "for col in columns:\n",
    "    xtrain[col] = le.fit_transform(xtrain[[col]])\n",
    "    xtest[col] = le.fit_transform(xtest[[col]])\n",
    "    \n",
    "# TRAIN\n",
    "from sklearn.model_selection import train_test_split\n",
    "x_tr, x_val, y_tr, y_val = train_test_split(xtrain, ytr, test_size=0.2)\n",
    "\n",
    "from sklearn.ensemble import RandomForestClassifier\n",
    "rfc = RandomForestClassifier()\n",
    "rfc.fit(x_tr, y_tr)\n",
    "\n",
    "from sklearn.metrics import roc_auc_score\n",
    "pred = rfc.predict_proba(x_val)\n",
    "roc_auc_score(y_val, pred[:,1])\n",
    "\n",
    "real_pred = rfc.predict_proba(xtest)\n",
    "roc_auc_score(yte, real_pred[:,1])\n",
    "\n",
    "submission = pd.DataFrame(\n",
    "    {\n",
    "        \"ID\" : X_test['ID'],\n",
    "        \"Reached.on.Time_Y.N\" : real_pred[:,1]\n",
    "    }\n",
    ")\n",
    "submission.to_csv('t1-2수험번호.csv', index=0)"
   ]
  },
  {
   "cell_type": "markdown",
   "metadata": {},
   "source": [
    "# T2"
   ]
  },
  {
   "cell_type": "markdown",
   "metadata": {},
   "source": [
    "## T2-1"
   ]
  },
  {
   "cell_type": "code",
   "execution_count": 105,
   "metadata": {},
   "outputs": [
    {
     "name": "stdout",
     "output_type": "stream",
     "text": [
      "50\n"
     ]
    }
   ],
   "source": [
    "# 출력을 원할 경우 print() 함수 활용\n",
    "# 예시) print(df.head())\n",
    "\n",
    "# getcwd(), chdir() 등 작업 폴더 설정 불필요\n",
    "# 파일 경로 상 내부 드라이브 경로(C: 등) 접근 불가\n",
    "\"\"\"\n",
    "2022년 데이터 중 2022년 중앙값보다 큰 값의 데이터 수\n",
    "\"\"\"\n",
    "# 데이터 파일 읽기 예제\n",
    "import pandas as pd\n",
    "df = pd.read_csv('./t2_data2.csv')\n",
    "\n",
    "# 사용자 코딩\n",
    "df = df.set_index('year')\n",
    "median = df.loc['2022년'].median()\n",
    "\n",
    "# 답안 제출 예시\n",
    "# print(평균변수값)\n",
    "print(sum(df.loc['2022년',:]>median))"
   ]
  },
  {
   "cell_type": "code",
   "execution_count": 120,
   "metadata": {},
   "outputs": [
    {
     "name": "stdout",
     "output_type": "stream",
     "text": [
      "77.25\n"
     ]
    }
   ],
   "source": [
    "# 출력을 원할 경우 print() 함수 활용\n",
    "# 예시) print(df.head())\n",
    "\n",
    "# getcwd(), chdir() 등 작업 폴더 설정 불필요\n",
    "# 파일 경로 상 내부 드라이브 경로(C: 등) 접근 불가\n",
    "\"\"\"\n",
    "결측치 데이터(행)을 제거하고, 앞에서부터 60% 데이터만 활용해, 'f1' 컬럼 3사분위 값을 구하시오\n",
    "\"\"\"\n",
    "# 데이터 파일 읽기 예제\n",
    "import pandas as pd\n",
    "df = pd.read_csv('./t2_data1.csv')\n",
    "\n",
    "# 사용자 코딩\n",
    "df = df.dropna()\n",
    "df = df[:int(len(df)*0.6)]\n",
    "\n",
    "# 답안 제출 예시\n",
    "# print(평균변수값)\n",
    "print(df['f1'].quantile(0.75))\n"
   ]
  },
  {
   "cell_type": "code",
   "execution_count": 133,
   "metadata": {},
   "outputs": [
    {
     "name": "stdout",
     "output_type": "stream",
     "text": [
      "f1\n"
     ]
    }
   ],
   "source": [
    "# 출력을 원할 경우 print() 함수 활용\n",
    "# 예시) print(df.head())\n",
    "\n",
    "# getcwd(), chdir() 등 작업 폴더 설정 불필요\n",
    "# 파일 경로 상 내부 드라이브 경로(C: 등) 접근 불가\n",
    "\"\"\"\n",
    "결측치가 제일 큰 값의 컬럼명을 구하시오\n",
    "\"\"\"\n",
    "# 데이터 파일 읽기 예제\n",
    "import pandas as pd\n",
    "df = pd.read_csv('./t2_data1.csv')\n",
    "\n",
    "# 사용자 코딩\n",
    "\n",
    "# 답안 제출 예시\n",
    "# print(평균변수값)\n",
    "print(df.isnull().sum().index[3])\n"
   ]
  },
  {
   "cell_type": "markdown",
   "metadata": {},
   "source": [
    "## t2-2"
   ]
  },
  {
   "cell_type": "markdown",
   "metadata": {},
   "source": [
    "    행 보험 패키지 상품을 구매할 확률 값을 구하시오\n",
    "    예측할 값(y): TravelInsurance (여행보험 패지지를 구매 했는지 여부 0:구매안함, 1:구매)\n",
    "    평가: roc-auc 평가지표\n",
    "    data: t2-1-train.csv, t2-1-test.csv\n",
    "    제출 형식\n",
    "    id,TravelInsurance\n",
    "    0,0.3\n",
    "    1,0.48\n",
    "    2,0.3\n",
    "    3,0.83"
   ]
  },
  {
   "cell_type": "code",
   "execution_count": 171,
   "metadata": {},
   "outputs": [
    {
     "name": "stdout",
     "output_type": "stream",
     "text": [
      "0.805969387755102\n"
     ]
    }
   ],
   "source": [
    "import pandas as pd\n",
    "train = pd.read_csv(\"./test2-1-train.csv\")\n",
    "test = pd.read_csv(\"./test2-1-test.csv\")\n",
    "\n",
    "test_id = test['id']\n",
    "train['AnnualIncome'] = train['AnnualIncome'].fillna(train['AnnualIncome'].mean())\n",
    "test['AnnualIncome'] = test['AnnualIncome'].fillna(test['AnnualIncome'].mean())\n",
    "test = test.dropna()\n",
    "train = train.drop('id', axis=1)\n",
    "test = test.drop('id', axis=1)\n",
    "\n",
    "obj = 'TravelInsurance'\n",
    "tr = train.drop(obj,axis=1)\n",
    "trl = train[[obj]]\n",
    "## TTS\n",
    "\n",
    "\n",
    "from sklearn.preprocessing import LabelEncoder\n",
    "le = LabelEncoder()\n",
    "columns = ['Employment Type','GraduateOrNot','FrequentFlyer','EverTravelledAbroad']\n",
    "for col in columns:\n",
    "    tr[col] = le.fit_transform(tr[[col]])\n",
    "    test[col] = le.fit_transform(test[[col]])\n",
    "from sklearn.model_selection import train_test_split\n",
    "X_train, X_val, y_train, y_val = train_test_split(tr, trl, test_size=0.2)    \n",
    "\n",
    "from sklearn.ensemble import RandomForestClassifier\n",
    "model = RandomForestClassifier()\n",
    "model.fit(X_train,y_train)\n",
    "pred = model.predict(X_val)\n",
    "pred_ba = model.predict_proba(X_val)\n",
    "\n",
    "from sklearn.metrics import roc_auc_score\n",
    "print(roc_auc_score(y_val, pred_ba[:,1]))\n",
    "\n",
    "real_pred_ba = model.predict_proba(test)\n",
    "\n",
    "submission = pd.DataFrame(\n",
    "    {\n",
    "        'id' : test_id,\n",
    "        'TravelInsurance' : real_pred_ba[:,1]\n",
    "    }\n",
    ")\n",
    "submission.to_csv('TEST2_수험번호.csv')"
   ]
  },
  {
   "cell_type": "markdown",
   "metadata": {},
   "source": [
    "# T3"
   ]
  },
  {
   "cell_type": "markdown",
   "metadata": {},
   "source": [
    "## T3-1"
   ]
  },
  {
   "cell_type": "code",
   "execution_count": 176,
   "metadata": {},
   "outputs": [
    {
     "name": "stdout",
     "output_type": "stream",
     "text": [
      "50\n"
     ]
    }
   ],
   "source": [
    "# 출력을 원할 경우 print() 함수 활용\n",
    "# 예시) print(df.head())\n",
    "\n",
    "# getcwd(), chdir() 등 작업 폴더 설정 불필요\n",
    "# 파일 경로 상 내부 드라이브 경로(C: 등) 접근 불가\n",
    "\"\"\"\n",
    "age 컬럼의 3사분위수와 1사분위수의 차를 절대값으로 구하고, 소수점 버려서, 정수로 출력\n",
    "\"\"\"\n",
    "# 데이터 파일 읽기 예제\n",
    "import pandas as pd\n",
    "df = pd.read_csv('./basic1.csv')\n",
    "\n",
    "# 사용자 코딩\n",
    "q3 = df['age'].quantile(0.75)\n",
    "q1 = df['age'].quantile(0.25)\n",
    "import numpy as np\n",
    "abs_ = np.abs(q3-q1)\n",
    "\n",
    "# 답안 제출 예시\n",
    "# print(평균변수값)\n",
    "print(int(abs_))\n"
   ]
  },
  {
   "cell_type": "code",
   "execution_count": 182,
   "metadata": {},
   "outputs": [
    {
     "name": "stdout",
     "output_type": "stream",
     "text": [
      "90\n"
     ]
    }
   ],
   "source": [
    "# 출력을 원할 경우 print() 함수 활용\n",
    "# 예시) print(df.head())\n",
    "\n",
    "# getcwd(), chdir() 등 작업 폴더 설정 불필요\n",
    "# 파일 경로 상 내부 드라이브 경로(C: 등) 접근 불가\n",
    "\"\"\"\n",
    "(loves반응+wows반응)/(reactions반응) 비율이 0.4보다 크고 0.5보다 작으면서, status_type=='video'인 데이터의 갯수\n",
    "\"\"\"\n",
    "# 데이터 파일 읽기 예제\n",
    "import pandas as pd\n",
    "df = pd.read_csv('./fb.csv')\n",
    "\n",
    "# 사용자 코딩\n",
    "df['add'] = df['loves'] + df['wows']\n",
    "df['devided'] = df['add'] / df['reactions']\n",
    "cond = (df['devided'] > 0.4) & (df['devided'] < 0.5) & (df['type'] == 'video')\n",
    "# 답안 제출 예시\n",
    "# print(평균변수값)\n",
    "print(len(df[cond]))\n"
   ]
  },
  {
   "cell_type": "code",
   "execution_count": 196,
   "metadata": {},
   "outputs": [
    {
     "name": "stdout",
     "output_type": "stream",
     "text": [
      "6\n"
     ]
    }
   ],
   "source": [
    "# 출력을 원할 경우 print() 함수 활용\n",
    "# 예시) print(df.head())\n",
    "\n",
    "# getcwd(), chdir() 등 작업 폴더 설정 불필요\n",
    "# 파일 경로 상 내부 드라이브 경로(C: 등) 접근 불가\n",
    "\"\"\"\n",
    "date_added가 2018년 1월 이면서 country가 United Kingdom 단독 제작인 데이터의 갯수\n",
    "\"\"\"\n",
    "# 데이터 파일 읽기 예제\n",
    "import pandas as pd\n",
    "df = pd.read_csv('./nf.csv')\n",
    "\n",
    "# 사용자 코딩\n",
    "df['date_added'] = pd.to_datetime(df['date_added'])\n",
    "df['year'] = df['date_added'].dt.year\n",
    "df['month'] = df['date_added'].dt.month\n",
    "cond = (df['year']==2018)\n",
    "cond1 = (df['month']==1)\n",
    "cond2 = (df['country'] == \"United Kingdom\")\n",
    "# 답안 제출 예시\n",
    "# print(평균변수값)\n",
    "print(len(df[cond & cond1 & cond2]))\n"
   ]
  },
  {
   "cell_type": "markdown",
   "metadata": {},
   "source": [
    "## T3-2"
   ]
  },
  {
   "cell_type": "markdown",
   "metadata": {},
   "source": [
    "    [마케팅] 자동차 시장 세분화\n",
    "    자동차 회사는 새로운 전략을 수립하기 위해 4개의 시장으로 세분화했습니다.\n",
    "    기존 고객 분류 자료를 바탕으로 신규 고객이 어떤 분류에 속할지 예측해주세요!\n",
    "    예측할 값(y): \"Segmentation\" (1,2,3,4)\n",
    "    평가: Macro f1-score\n"
   ]
  },
  {
   "cell_type": "code",
   "execution_count": 207,
   "metadata": {},
   "outputs": [
    {
     "data": {
      "text/plain": [
       "array([2, 4, 4, ..., 3, 1, 1])"
      ]
     },
     "execution_count": 207,
     "metadata": {},
     "output_type": "execute_result"
    }
   ],
   "source": [
    "import pandas as pd\n",
    "train = pd.read_csv('./train3.csv')\n",
    "test = pd.read_csv('./test3.csv')\n",
    "\n",
    "id_train = train['ID']\n",
    "id_test = test['ID']\n",
    "\n",
    "train_copy = train.copy()\n",
    "\n",
    "train_copy = train_copy.drop('ID', axis=1)\n",
    "test = test.drop('ID',axis=1)\n",
    "\n",
    "from sklearn.preprocessing import LabelEncoder\n",
    "le = LabelEncoder()\n",
    "columns = ['Gender','Ever_Married','Graduated','Profession','Spending_Score','Var_1']\n",
    "for col in columns:\n",
    "    train_copy[col] = le.fit_transform(train_copy[[col]])\n",
    "    test[col] = le.fit_transform(test[[col]])\n",
    "\n",
    "from sklearn.model_selection import train_test_split\n",
    "X_train, X_val, y_train, y_val = train_test_split(train_copy, train['Segmentation'])\n",
    "\n",
    "from sklearn.ensemble import RandomForestClassifier\n",
    "model = RandomForestClassifier()\n",
    "model.fit(X_train, y_train)\n",
    "\n",
    "pred = model.predict(X_val)\n",
    "\n",
    "pred\n"
   ]
  },
  {
   "cell_type": "code",
   "execution_count": null,
   "metadata": {},
   "outputs": [],
   "source": []
  }
 ],
 "metadata": {
  "kernelspec": {
   "display_name": "Python 3.8.15 ('certification')",
   "language": "python",
   "name": "python3"
  },
  "language_info": {
   "codemirror_mode": {
    "name": "ipython",
    "version": 3
   },
   "file_extension": ".py",
   "mimetype": "text/x-python",
   "name": "python",
   "nbconvert_exporter": "python",
   "pygments_lexer": "ipython3",
   "version": "3.8.15"
  },
  "orig_nbformat": 4,
  "vscode": {
   "interpreter": {
    "hash": "2891f31c4377dce168528288aa041f4b241674edc9e645fdc9316026329b9991"
   }
  }
 },
 "nbformat": 4,
 "nbformat_minor": 2
}
